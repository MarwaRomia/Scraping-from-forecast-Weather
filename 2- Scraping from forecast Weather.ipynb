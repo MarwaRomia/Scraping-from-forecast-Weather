{
 "cells": [
  {
   "cell_type": "markdown",
   "metadata": {},
   "source": [
    "* Scraping from forecast weather\n",
    "Imagine you work for forecast weather Now imagine your boss wants you to find the temperture for each day in celsius degree. How could you do this with Beautiful Soup?\n",
    " https://forecast.weather.gov/MapClick.php?lat=37.7772&lon=-122.4168"
   ]
  },
  {
   "cell_type": "code",
   "execution_count": 1,
   "metadata": {},
   "outputs": [],
   "source": [
    "import requests\n",
    "from bs4 import BeautifulSoup"
   ]
  },
  {
   "cell_type": "code",
   "execution_count": 2,
   "metadata": {},
   "outputs": [],
   "source": [
    "request=requests.get('https://forecast.weather.gov/MapClick.php?lat=37.7772&lon=-122.4168')\n",
    "soup=BeautifulSoup(request.content,'html.parser')"
   ]
  },
  {
   "cell_type": "code",
   "execution_count": 3,
   "metadata": {},
   "outputs": [
    {
     "name": "stdout",
     "output_type": "stream",
     "text": [
      "ENTER the temperature30\n"
     ]
    }
   ],
   "source": [
    "temp=int(input(\"ENTER the temperature\"))\n"
   ]
  },
  {
   "cell_type": "code",
   "execution_count": 4,
   "metadata": {},
   "outputs": [
    {
     "data": {
      "text/plain": [
       "'High: 70 °F'"
      ]
     },
     "execution_count": 4,
     "metadata": {},
     "output_type": "execute_result"
    }
   ],
   "source": [
    "soup.find_all('p',attrs={'class':'temp'})[0].get_text()"
   ]
  },
  {
   "cell_type": "code",
   "execution_count": 5,
   "metadata": {},
   "outputs": [],
   "source": [
    "all_day=soup.find_all('li',attrs={'class':'forecast-tombstone'})"
   ]
  },
  {
   "cell_type": "code",
   "execution_count": 6,
   "metadata": {},
   "outputs": [
    {
     "data": {
      "text/plain": [
       "[<li class=\"forecast-tombstone\">\n",
       " <div class=\"tombstone-container\">\n",
       " <p class=\"period-name\">This<br/>Afternoon</p>\n",
       " <p><img alt=\"This Afternoon: Sunny, with a high near 70. West wind 9 to 13 mph. \" class=\"forecast-icon\" src=\"newimages/medium/skc.png\" title=\"This Afternoon: Sunny, with a high near 70. West wind 9 to 13 mph. \"/></p><p class=\"short-desc\">Sunny</p><p class=\"temp temp-high\">High: 70 °F</p></div></li>,\n",
       " <li class=\"forecast-tombstone\">\n",
       " <div class=\"tombstone-container\">\n",
       " <p class=\"period-name\">Tonight<br/><br/></p>\n",
       " <p><img alt=\"Tonight: Patchy fog after midnight.  Otherwise, increasing clouds, with a low around 53. West southwest wind 6 to 14 mph. \" class=\"forecast-icon\" src=\"DualImage.php?i=nfew&amp;j=nfg\" title=\"Tonight: Patchy fog after midnight.  Otherwise, increasing clouds, with a low around 53. West southwest wind 6 to 14 mph. \"/></p><p class=\"short-desc\">Mostly Clear<br/>then Patchy<br/>Fog</p><p class=\"temp temp-low\">Low: 53 °F</p></div></li>,\n",
       " <li class=\"forecast-tombstone\">\n",
       " <div class=\"tombstone-container\">\n",
       " <p class=\"period-name\">Wednesday<br/><br/></p>\n",
       " <p><img alt=\"Wednesday: Areas of fog before 9am.  Otherwise, cloudy through mid morning, then gradual clearing, with a high near 67. West wind 6 to 14 mph. \" class=\"forecast-icon\" src=\"DualImage.php?i=fg&amp;j=few\" title=\"Wednesday: Areas of fog before 9am.  Otherwise, cloudy through mid morning, then gradual clearing, with a high near 67. West wind 6 to 14 mph. \"/></p><p class=\"short-desc\">Areas Fog<br/>then Sunny</p><p class=\"temp temp-high\">High: 67 °F</p></div></li>,\n",
       " <li class=\"forecast-tombstone\">\n",
       " <div class=\"tombstone-container\">\n",
       " <p class=\"period-name\">Wednesday<br/>Night</p>\n",
       " <p><img alt=\"Wednesday Night: Areas of fog after 10pm.  Otherwise, mostly cloudy, with a low around 53. West wind 11 to 14 mph, with gusts as high as 18 mph. \" class=\"forecast-icon\" src=\"newimages/medium/nfg.png\" title=\"Wednesday Night: Areas of fog after 10pm.  Otherwise, mostly cloudy, with a low around 53. West wind 11 to 14 mph, with gusts as high as 18 mph. \"/></p><p class=\"short-desc\">Areas Fog</p><p class=\"temp temp-low\">Low: 53 °F</p></div></li>,\n",
       " <li class=\"forecast-tombstone\">\n",
       " <div class=\"tombstone-container\">\n",
       " <p class=\"period-name\">Thursday<br/><br/></p>\n",
       " <p><img alt=\"Thursday: Patchy fog before 7am.  Otherwise, mostly sunny, with a high near 66. West wind 8 to 14 mph, with gusts as high as 21 mph. \" class=\"forecast-icon\" src=\"DualImage.php?i=fg&amp;j=few\" title=\"Thursday: Patchy fog before 7am.  Otherwise, mostly sunny, with a high near 66. West wind 8 to 14 mph, with gusts as high as 21 mph. \"/></p><p class=\"short-desc\">Patchy Fog<br/>then Sunny</p><p class=\"temp temp-high\">High: 66 °F</p></div></li>,\n",
       " <li class=\"forecast-tombstone\">\n",
       " <div class=\"tombstone-container\">\n",
       " <p class=\"period-name\">Thursday<br/>Night</p>\n",
       " <p><img alt=\"Thursday Night: Mostly clear, with a low around 53.\" class=\"forecast-icon\" src=\"newimages/medium/nfew.png\" title=\"Thursday Night: Mostly clear, with a low around 53.\"/></p><p class=\"short-desc\">Mostly Clear</p><p class=\"temp temp-low\">Low: 53 °F</p></div></li>,\n",
       " <li class=\"forecast-tombstone\">\n",
       " <div class=\"tombstone-container\">\n",
       " <p class=\"period-name\">Friday<br/><br/></p>\n",
       " <p><img alt=\"Friday: Mostly sunny, with a high near 66.\" class=\"forecast-icon\" src=\"newimages/medium/sct.png\" title=\"Friday: Mostly sunny, with a high near 66.\"/></p><p class=\"short-desc\">Mostly Sunny</p><p class=\"temp temp-high\">High: 66 °F</p></div></li>,\n",
       " <li class=\"forecast-tombstone\">\n",
       " <div class=\"tombstone-container\">\n",
       " <p class=\"period-name\">Friday<br/>Night</p>\n",
       " <p><img alt=\"Friday Night: Partly cloudy, with a low around 54.\" class=\"forecast-icon\" src=\"newimages/medium/nsct.png\" title=\"Friday Night: Partly cloudy, with a low around 54.\"/></p><p class=\"short-desc\">Partly Cloudy</p><p class=\"temp temp-low\">Low: 54 °F</p></div></li>,\n",
       " <li class=\"forecast-tombstone\">\n",
       " <div class=\"tombstone-container\">\n",
       " <p class=\"period-name\">Saturday<br/><br/></p>\n",
       " <p><img alt=\"Saturday: Mostly sunny, with a high near 65.\" class=\"forecast-icon\" src=\"newimages/medium/sct.png\" title=\"Saturday: Mostly sunny, with a high near 65.\"/></p><p class=\"short-desc\">Mostly Sunny</p><p class=\"temp temp-high\">High: 65 °F</p></div></li>]"
      ]
     },
     "execution_count": 6,
     "metadata": {},
     "output_type": "execute_result"
    }
   ],
   "source": [
    "all_day"
   ]
  },
  {
   "cell_type": "code",
   "execution_count": 7,
   "metadata": {},
   "outputs": [],
   "source": [
    "daysname=soup.find_all('p',attrs={'class':'period-name'})"
   ]
  },
  {
   "cell_type": "code",
   "execution_count": 8,
   "metadata": {},
   "outputs": [
    {
     "data": {
      "text/plain": [
       "[<p class=\"period-name\">This<br/>Afternoon</p>,\n",
       " <p class=\"period-name\">Tonight<br/><br/></p>,\n",
       " <p class=\"period-name\">Wednesday<br/><br/></p>,\n",
       " <p class=\"period-name\">Wednesday<br/>Night</p>,\n",
       " <p class=\"period-name\">Thursday<br/><br/></p>,\n",
       " <p class=\"period-name\">Thursday<br/>Night</p>,\n",
       " <p class=\"period-name\">Friday<br/><br/></p>,\n",
       " <p class=\"period-name\">Friday<br/>Night</p>,\n",
       " <p class=\"period-name\">Saturday<br/><br/></p>]"
      ]
     },
     "execution_count": 8,
     "metadata": {},
     "output_type": "execute_result"
    }
   ],
   "source": [
    "daysname"
   ]
  },
  {
   "cell_type": "code",
   "execution_count": 9,
   "metadata": {},
   "outputs": [],
   "source": [
    "temp=soup.find_all('p',attrs={'class':'temp'})"
   ]
  },
  {
   "cell_type": "code",
   "execution_count": 10,
   "metadata": {},
   "outputs": [
    {
     "data": {
      "text/plain": [
       "[<p class=\"temp temp-high\">High: 70 °F</p>,\n",
       " <p class=\"temp temp-low\">Low: 53 °F</p>,\n",
       " <p class=\"temp temp-high\">High: 67 °F</p>,\n",
       " <p class=\"temp temp-low\">Low: 53 °F</p>,\n",
       " <p class=\"temp temp-high\">High: 66 °F</p>,\n",
       " <p class=\"temp temp-low\">Low: 53 °F</p>,\n",
       " <p class=\"temp temp-high\">High: 66 °F</p>,\n",
       " <p class=\"temp temp-low\">Low: 54 °F</p>,\n",
       " <p class=\"temp temp-high\">High: 65 °F</p>]"
      ]
     },
     "execution_count": 10,
     "metadata": {},
     "output_type": "execute_result"
    }
   ],
   "source": [
    "temp"
   ]
  },
  {
   "cell_type": "code",
   "execution_count": 11,
   "metadata": {},
   "outputs": [
    {
     "name": "stdout",
     "output_type": "stream",
     "text": [
      "70\n",
      "53\n",
      "67\n",
      "53\n",
      "66\n",
      "53\n",
      "66\n",
      "54\n",
      "65\n"
     ]
    }
   ],
   "source": [
    "data=[]\n",
    "all_day=soup.find_all('li',attrs={'class':'forecast-tombstone'})\n",
    "for day in all_day:\n",
    "    daysname=day.find('p',attrs={'class':'period-name'}).get_text()\n",
    "    temp=day.find('p',attrs={'class':'temp'}).get_text()\n",
    "    degree=int(temp.split(' ')[1].split(' ')[0])\n",
    "    print(degree)\n",
    "    \n",
    "    data.append([daysname,degree])"
   ]
  },
  {
   "cell_type": "code",
   "execution_count": 12,
   "metadata": {},
   "outputs": [],
   "source": [
    "import csv\n",
    "with open(\"weather.csv\",\"w\") as fid:\n",
    "    writer=csv.writer(fid)\n",
    "    header=['daysname','degree']\n",
    "    writer.writerow(header)\n",
    "    writer.writerows(data)"
   ]
  },
  {
   "cell_type": "code",
   "execution_count": null,
   "metadata": {},
   "outputs": [],
   "source": []
  }
 ],
 "metadata": {
  "kernelspec": {
   "display_name": "Python 3",
   "language": "python",
   "name": "python3"
  },
  "language_info": {
   "codemirror_mode": {
    "name": "ipython",
    "version": 3
   },
   "file_extension": ".py",
   "mimetype": "text/x-python",
   "name": "python",
   "nbconvert_exporter": "python",
   "pygments_lexer": "ipython3",
   "version": "3.7.6"
  }
 },
 "nbformat": 4,
 "nbformat_minor": 4
}
